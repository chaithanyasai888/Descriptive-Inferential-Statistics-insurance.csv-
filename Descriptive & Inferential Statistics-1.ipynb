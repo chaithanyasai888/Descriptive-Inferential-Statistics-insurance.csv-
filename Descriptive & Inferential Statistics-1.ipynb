{
 "cells": [
  {
   "cell_type": "code",
   "execution_count": 1,
   "id": "c7750174",
   "metadata": {},
   "outputs": [],
   "source": [
    "import pandas as pd\n",
    "import numpy as np\n",
    "import matplotlib.pyplot as plt\n",
    "import seaborn as sns\n",
    "%matplotlib inline\n",
    "import scipy.stats as st"
   ]
  },
  {
   "cell_type": "code",
   "execution_count": null,
   "id": "98291244",
   "metadata": {},
   "outputs": [],
   "source": [
    "''' 1. Explain the data. Check It is supervised or Unsupervised. Demonstrate? '''\n",
    "\n",
    "## supervised learning uses labeled input and output data, while an unsupervised learning does not.\n",
    "\n",
    "'''Supervised learning is a machine learning approach that's defined by its use of labeled datasets. \n",
    "These datasets are designed to train or “supervise” algorithms into classifying data or predicting outcomes accurately. \n",
    "Using labeled inputs and outputs, the model can measure its accuracy and learn over time.'''"
   ]
  },
  {
   "cell_type": "code",
   "execution_count": 3,
   "id": "6a1368e6",
   "metadata": {},
   "outputs": [
    {
     "data": {
      "text/html": [
       "<div>\n",
       "<style scoped>\n",
       "    .dataframe tbody tr th:only-of-type {\n",
       "        vertical-align: middle;\n",
       "    }\n",
       "\n",
       "    .dataframe tbody tr th {\n",
       "        vertical-align: top;\n",
       "    }\n",
       "\n",
       "    .dataframe thead th {\n",
       "        text-align: right;\n",
       "    }\n",
       "</style>\n",
       "<table border=\"1\" class=\"dataframe\">\n",
       "  <thead>\n",
       "    <tr style=\"text-align: right;\">\n",
       "      <th></th>\n",
       "      <th>age</th>\n",
       "      <th>sex</th>\n",
       "      <th>bmi</th>\n",
       "      <th>children</th>\n",
       "      <th>smoker</th>\n",
       "      <th>region</th>\n",
       "      <th>charges</th>\n",
       "    </tr>\n",
       "  </thead>\n",
       "  <tbody>\n",
       "    <tr>\n",
       "      <th>0</th>\n",
       "      <td>19</td>\n",
       "      <td>female</td>\n",
       "      <td>27.900</td>\n",
       "      <td>0</td>\n",
       "      <td>yes</td>\n",
       "      <td>southwest</td>\n",
       "      <td>16884.92400</td>\n",
       "    </tr>\n",
       "    <tr>\n",
       "      <th>1</th>\n",
       "      <td>18</td>\n",
       "      <td>male</td>\n",
       "      <td>33.770</td>\n",
       "      <td>1</td>\n",
       "      <td>no</td>\n",
       "      <td>southeast</td>\n",
       "      <td>1725.55230</td>\n",
       "    </tr>\n",
       "    <tr>\n",
       "      <th>2</th>\n",
       "      <td>28</td>\n",
       "      <td>male</td>\n",
       "      <td>33.000</td>\n",
       "      <td>3</td>\n",
       "      <td>no</td>\n",
       "      <td>southeast</td>\n",
       "      <td>4449.46200</td>\n",
       "    </tr>\n",
       "    <tr>\n",
       "      <th>3</th>\n",
       "      <td>33</td>\n",
       "      <td>male</td>\n",
       "      <td>22.705</td>\n",
       "      <td>0</td>\n",
       "      <td>no</td>\n",
       "      <td>northwest</td>\n",
       "      <td>21984.47061</td>\n",
       "    </tr>\n",
       "    <tr>\n",
       "      <th>4</th>\n",
       "      <td>32</td>\n",
       "      <td>male</td>\n",
       "      <td>28.880</td>\n",
       "      <td>0</td>\n",
       "      <td>no</td>\n",
       "      <td>northwest</td>\n",
       "      <td>3866.85520</td>\n",
       "    </tr>\n",
       "    <tr>\n",
       "      <th>...</th>\n",
       "      <td>...</td>\n",
       "      <td>...</td>\n",
       "      <td>...</td>\n",
       "      <td>...</td>\n",
       "      <td>...</td>\n",
       "      <td>...</td>\n",
       "      <td>...</td>\n",
       "    </tr>\n",
       "    <tr>\n",
       "      <th>1333</th>\n",
       "      <td>50</td>\n",
       "      <td>male</td>\n",
       "      <td>30.970</td>\n",
       "      <td>3</td>\n",
       "      <td>no</td>\n",
       "      <td>northwest</td>\n",
       "      <td>10600.54830</td>\n",
       "    </tr>\n",
       "    <tr>\n",
       "      <th>1334</th>\n",
       "      <td>18</td>\n",
       "      <td>female</td>\n",
       "      <td>31.920</td>\n",
       "      <td>0</td>\n",
       "      <td>no</td>\n",
       "      <td>northeast</td>\n",
       "      <td>2205.98080</td>\n",
       "    </tr>\n",
       "    <tr>\n",
       "      <th>1335</th>\n",
       "      <td>18</td>\n",
       "      <td>female</td>\n",
       "      <td>36.850</td>\n",
       "      <td>0</td>\n",
       "      <td>no</td>\n",
       "      <td>southeast</td>\n",
       "      <td>1629.83350</td>\n",
       "    </tr>\n",
       "    <tr>\n",
       "      <th>1336</th>\n",
       "      <td>21</td>\n",
       "      <td>female</td>\n",
       "      <td>25.800</td>\n",
       "      <td>0</td>\n",
       "      <td>no</td>\n",
       "      <td>southwest</td>\n",
       "      <td>2007.94500</td>\n",
       "    </tr>\n",
       "    <tr>\n",
       "      <th>1337</th>\n",
       "      <td>61</td>\n",
       "      <td>female</td>\n",
       "      <td>29.070</td>\n",
       "      <td>0</td>\n",
       "      <td>yes</td>\n",
       "      <td>northwest</td>\n",
       "      <td>29141.36030</td>\n",
       "    </tr>\n",
       "  </tbody>\n",
       "</table>\n",
       "<p>1338 rows × 7 columns</p>\n",
       "</div>"
      ],
      "text/plain": [
       "      age     sex     bmi  children smoker     region      charges\n",
       "0      19  female  27.900         0    yes  southwest  16884.92400\n",
       "1      18    male  33.770         1     no  southeast   1725.55230\n",
       "2      28    male  33.000         3     no  southeast   4449.46200\n",
       "3      33    male  22.705         0     no  northwest  21984.47061\n",
       "4      32    male  28.880         0     no  northwest   3866.85520\n",
       "...   ...     ...     ...       ...    ...        ...          ...\n",
       "1333   50    male  30.970         3     no  northwest  10600.54830\n",
       "1334   18  female  31.920         0     no  northeast   2205.98080\n",
       "1335   18  female  36.850         0     no  southeast   1629.83350\n",
       "1336   21  female  25.800         0     no  southwest   2007.94500\n",
       "1337   61  female  29.070         0    yes  northwest  29141.36030\n",
       "\n",
       "[1338 rows x 7 columns]"
      ]
     },
     "execution_count": 3,
     "metadata": {},
     "output_type": "execute_result"
    }
   ],
   "source": [
    "data=pd.read_csv('insurance.csv')\n",
    "\n",
    "data"
   ]
  },
  {
   "cell_type": "markdown",
   "id": "1c735b92",
   "metadata": {},
   "source": [
    "## 2. Estimate the minimum sample size n to get the 99% accurate predictions. (precision = 0.02)"
   ]
  },
  {
   "cell_type": "code",
   "execution_count": 4,
   "id": "564b0ab2",
   "metadata": {},
   "outputs": [
    {
     "name": "stdout",
     "output_type": "stream",
     "text": [
      "4128.062499999999\n"
     ]
    }
   ],
   "source": [
    "## z=-2.57  for(0.01/2) since it is a two tailed from statistical table\n",
    "\n",
    "z=-2.57\n",
    "e=0.02\n",
    "p=0.5\n",
    "q=1-p\n",
    "\n",
    "sample_size_n= (z**2/e**2)*p*q\n",
    "print(sample_size_n)"
   ]
  },
  {
   "cell_type": "markdown",
   "id": "6d905f4c",
   "metadata": {},
   "source": [
    "## 3. Check the data is cleaned or not. If not then clean it (Null values, Row/Column Duplicates, Outliers,Change the string into numbers)\n"
   ]
  },
  {
   "cell_type": "code",
   "execution_count": 5,
   "id": "97ad82f4",
   "metadata": {},
   "outputs": [
    {
     "data": {
      "text/plain": [
       "age         0\n",
       "sex         0\n",
       "bmi         0\n",
       "children    0\n",
       "smoker      0\n",
       "region      0\n",
       "charges     0\n",
       "dtype: int64"
      ]
     },
     "execution_count": 5,
     "metadata": {},
     "output_type": "execute_result"
    }
   ],
   "source": [
    "data.isnull().sum()"
   ]
  },
  {
   "cell_type": "code",
   "execution_count": 6,
   "id": "d1a15b16",
   "metadata": {},
   "outputs": [
    {
     "data": {
      "text/plain": [
       "1"
      ]
     },
     "execution_count": 6,
     "metadata": {},
     "output_type": "execute_result"
    }
   ],
   "source": [
    "data.duplicated().sum()"
   ]
  },
  {
   "cell_type": "code",
   "execution_count": 7,
   "id": "f9048d0e",
   "metadata": {},
   "outputs": [
    {
     "data": {
      "text/html": [
       "<div>\n",
       "<style scoped>\n",
       "    .dataframe tbody tr th:only-of-type {\n",
       "        vertical-align: middle;\n",
       "    }\n",
       "\n",
       "    .dataframe tbody tr th {\n",
       "        vertical-align: top;\n",
       "    }\n",
       "\n",
       "    .dataframe thead th {\n",
       "        text-align: right;\n",
       "    }\n",
       "</style>\n",
       "<table border=\"1\" class=\"dataframe\">\n",
       "  <thead>\n",
       "    <tr style=\"text-align: right;\">\n",
       "      <th></th>\n",
       "      <th>age</th>\n",
       "      <th>sex</th>\n",
       "      <th>bmi</th>\n",
       "      <th>children</th>\n",
       "      <th>smoker</th>\n",
       "      <th>region</th>\n",
       "      <th>charges</th>\n",
       "    </tr>\n",
       "  </thead>\n",
       "  <tbody>\n",
       "    <tr>\n",
       "      <th>195</th>\n",
       "      <td>19</td>\n",
       "      <td>male</td>\n",
       "      <td>30.59</td>\n",
       "      <td>0</td>\n",
       "      <td>no</td>\n",
       "      <td>northwest</td>\n",
       "      <td>1639.5631</td>\n",
       "    </tr>\n",
       "  </tbody>\n",
       "</table>\n",
       "</div>"
      ],
      "text/plain": [
       "     age   sex    bmi  children smoker     region    charges\n",
       "195   19  male  30.59         0     no  northwest  1639.5631"
      ]
     },
     "execution_count": 7,
     "metadata": {},
     "output_type": "execute_result"
    }
   ],
   "source": [
    "## duplicates for ROWS/COLUMNS\n",
    "\n",
    "duplicates=data[data.duplicated(keep='last')]\n",
    "duplicates"
   ]
  },
  {
   "cell_type": "code",
   "execution_count": 8,
   "id": "ea9bcfcb",
   "metadata": {},
   "outputs": [],
   "source": [
    "## droping the duplicates\n",
    "\n",
    "data.drop_duplicates(inplace = True)"
   ]
  },
  {
   "cell_type": "code",
   "execution_count": 9,
   "id": "2e2c4398",
   "metadata": {},
   "outputs": [
    {
     "data": {
      "text/plain": [
       "0"
      ]
     },
     "execution_count": 9,
     "metadata": {},
     "output_type": "execute_result"
    }
   ],
   "source": [
    "data.duplicated().sum()"
   ]
  },
  {
   "cell_type": "code",
   "execution_count": 10,
   "id": "134554c8",
   "metadata": {},
   "outputs": [
    {
     "name": "stdout",
     "output_type": "stream",
     "text": [
      "age\n",
      " percentage= 0.0\n",
      " number=0\n",
      " mean= 39.222139117427076\n",
      " min=18\n",
      " max=64\n",
      "bmi\n",
      " percentage= 0.6731488406881078\n",
      " number=9\n",
      " mean= 30.663451757666405\n",
      " min=15.96\n",
      " max=53.13\n",
      "children\n",
      " percentage= 0.0\n",
      " number=0\n",
      " mean= 1.0957367240089753\n",
      " min=0\n",
      " max=5\n",
      "charges\n",
      " percentage= 10.396409872849663\n",
      " number=139\n",
      " mean= 13279.121486655948\n",
      " min=1121.8739\n",
      " max=63770.42801\n"
     ]
    }
   ],
   "source": [
    "## Removing Outliers\n",
    "\n",
    "def outlier(col):\n",
    "    m= data[col].mean()\n",
    "    m1= data[col].min()\n",
    "    m2=data[col].max()\n",
    "    l= len(data)\n",
    "    q1= data[col].quantile(0.25)\n",
    "    q3=data[col].quantile(0.75)\n",
    "    IQR= q3-q1\n",
    "    lower= q1-(IQR*1.5)\n",
    "    upper= q3+(IQR*1.5)\n",
    "    n= len(data.loc[np.where((data[col] > upper) | (data[col] < lower))])\n",
    "    perc= (n/l)*100\n",
    "    print(f'{col}\\n percentage= {perc}\\n number={n}\\n mean= {m}\\n min={m1}\\n max={m2}')\n",
    "    \n",
    "for i in data.select_dtypes(exclude='object').columns:\n",
    "    outlier(i)"
   ]
  },
  {
   "cell_type": "code",
   "execution_count": 40,
   "id": "ed259f54",
   "metadata": {},
   "outputs": [
    {
     "name": "stdout",
     "output_type": "stream",
     "text": [
      "Outliers:\n",
      "True\n",
      "True\n",
      "True\n",
      "True\n"
     ]
    }
   ],
   "source": [
    "Q1 = data.quantile(0.25)\n",
    "Q3 = data.quantile(0.75)\n",
    "IQR = Q3 - Q1\n",
    "\n",
    "mask = ((data < (Q1 - 1.5 * IQR)) |(data > (Q3 + 1.5 * IQR)))\n",
    "filtered_data = (mask*data).any()\n",
    "print(\"Outliers:\")\n",
    "for datum in filtered_data:\n",
    "    if(datum != 0):\n",
    "        print(datum)"
   ]
  },
  {
   "cell_type": "code",
   "execution_count": 12,
   "id": "5866b422",
   "metadata": {},
   "outputs": [
    {
     "data": {
      "text/html": [
       "<div>\n",
       "<style scoped>\n",
       "    .dataframe tbody tr th:only-of-type {\n",
       "        vertical-align: middle;\n",
       "    }\n",
       "\n",
       "    .dataframe tbody tr th {\n",
       "        vertical-align: top;\n",
       "    }\n",
       "\n",
       "    .dataframe thead th {\n",
       "        text-align: right;\n",
       "    }\n",
       "</style>\n",
       "<table border=\"1\" class=\"dataframe\">\n",
       "  <thead>\n",
       "    <tr style=\"text-align: right;\">\n",
       "      <th></th>\n",
       "      <th>age</th>\n",
       "      <th>bmi</th>\n",
       "      <th>children</th>\n",
       "      <th>charges</th>\n",
       "    </tr>\n",
       "  </thead>\n",
       "  <tbody>\n",
       "    <tr>\n",
       "      <th>count</th>\n",
       "      <td>1337.000000</td>\n",
       "      <td>1337.000000</td>\n",
       "      <td>1337.000000</td>\n",
       "      <td>1337.000000</td>\n",
       "    </tr>\n",
       "    <tr>\n",
       "      <th>mean</th>\n",
       "      <td>39.222139</td>\n",
       "      <td>30.663452</td>\n",
       "      <td>1.095737</td>\n",
       "      <td>13279.121487</td>\n",
       "    </tr>\n",
       "    <tr>\n",
       "      <th>std</th>\n",
       "      <td>14.044333</td>\n",
       "      <td>6.100468</td>\n",
       "      <td>1.205571</td>\n",
       "      <td>12110.359656</td>\n",
       "    </tr>\n",
       "    <tr>\n",
       "      <th>min</th>\n",
       "      <td>18.000000</td>\n",
       "      <td>15.960000</td>\n",
       "      <td>0.000000</td>\n",
       "      <td>1121.873900</td>\n",
       "    </tr>\n",
       "    <tr>\n",
       "      <th>25%</th>\n",
       "      <td>27.000000</td>\n",
       "      <td>26.290000</td>\n",
       "      <td>0.000000</td>\n",
       "      <td>4746.344000</td>\n",
       "    </tr>\n",
       "    <tr>\n",
       "      <th>50%</th>\n",
       "      <td>39.000000</td>\n",
       "      <td>30.400000</td>\n",
       "      <td>1.000000</td>\n",
       "      <td>9386.161300</td>\n",
       "    </tr>\n",
       "    <tr>\n",
       "      <th>75%</th>\n",
       "      <td>51.000000</td>\n",
       "      <td>34.700000</td>\n",
       "      <td>2.000000</td>\n",
       "      <td>16657.717450</td>\n",
       "    </tr>\n",
       "    <tr>\n",
       "      <th>max</th>\n",
       "      <td>64.000000</td>\n",
       "      <td>53.130000</td>\n",
       "      <td>5.000000</td>\n",
       "      <td>63770.428010</td>\n",
       "    </tr>\n",
       "  </tbody>\n",
       "</table>\n",
       "</div>"
      ],
      "text/plain": [
       "               age          bmi     children       charges\n",
       "count  1337.000000  1337.000000  1337.000000   1337.000000\n",
       "mean     39.222139    30.663452     1.095737  13279.121487\n",
       "std      14.044333     6.100468     1.205571  12110.359656\n",
       "min      18.000000    15.960000     0.000000   1121.873900\n",
       "25%      27.000000    26.290000     0.000000   4746.344000\n",
       "50%      39.000000    30.400000     1.000000   9386.161300\n",
       "75%      51.000000    34.700000     2.000000  16657.717450\n",
       "max      64.000000    53.130000     5.000000  63770.428010"
      ]
     },
     "execution_count": 12,
     "metadata": {},
     "output_type": "execute_result"
    }
   ],
   "source": [
    "data.describe()"
   ]
  },
  {
   "cell_type": "code",
   "execution_count": 13,
   "id": "803d4dd5",
   "metadata": {},
   "outputs": [
    {
     "data": {
      "text/html": [
       "<div>\n",
       "<style scoped>\n",
       "    .dataframe tbody tr th:only-of-type {\n",
       "        vertical-align: middle;\n",
       "    }\n",
       "\n",
       "    .dataframe tbody tr th {\n",
       "        vertical-align: top;\n",
       "    }\n",
       "\n",
       "    .dataframe thead th {\n",
       "        text-align: right;\n",
       "    }\n",
       "</style>\n",
       "<table border=\"1\" class=\"dataframe\">\n",
       "  <thead>\n",
       "    <tr style=\"text-align: right;\">\n",
       "      <th></th>\n",
       "      <th>age</th>\n",
       "      <th>sex</th>\n",
       "      <th>bmi</th>\n",
       "      <th>children</th>\n",
       "      <th>smoker</th>\n",
       "      <th>region</th>\n",
       "      <th>charges</th>\n",
       "    </tr>\n",
       "  </thead>\n",
       "  <tbody>\n",
       "    <tr>\n",
       "      <th>0</th>\n",
       "      <td>19</td>\n",
       "      <td>1</td>\n",
       "      <td>27.900</td>\n",
       "      <td>0</td>\n",
       "      <td>1</td>\n",
       "      <td>1</td>\n",
       "      <td>16884.92400</td>\n",
       "    </tr>\n",
       "    <tr>\n",
       "      <th>1</th>\n",
       "      <td>18</td>\n",
       "      <td>0</td>\n",
       "      <td>33.770</td>\n",
       "      <td>1</td>\n",
       "      <td>0</td>\n",
       "      <td>2</td>\n",
       "      <td>1725.55230</td>\n",
       "    </tr>\n",
       "    <tr>\n",
       "      <th>2</th>\n",
       "      <td>28</td>\n",
       "      <td>0</td>\n",
       "      <td>33.000</td>\n",
       "      <td>3</td>\n",
       "      <td>0</td>\n",
       "      <td>2</td>\n",
       "      <td>4449.46200</td>\n",
       "    </tr>\n",
       "    <tr>\n",
       "      <th>3</th>\n",
       "      <td>33</td>\n",
       "      <td>0</td>\n",
       "      <td>22.705</td>\n",
       "      <td>0</td>\n",
       "      <td>0</td>\n",
       "      <td>3</td>\n",
       "      <td>21984.47061</td>\n",
       "    </tr>\n",
       "    <tr>\n",
       "      <th>4</th>\n",
       "      <td>32</td>\n",
       "      <td>0</td>\n",
       "      <td>28.880</td>\n",
       "      <td>0</td>\n",
       "      <td>0</td>\n",
       "      <td>3</td>\n",
       "      <td>3866.85520</td>\n",
       "    </tr>\n",
       "    <tr>\n",
       "      <th>...</th>\n",
       "      <td>...</td>\n",
       "      <td>...</td>\n",
       "      <td>...</td>\n",
       "      <td>...</td>\n",
       "      <td>...</td>\n",
       "      <td>...</td>\n",
       "      <td>...</td>\n",
       "    </tr>\n",
       "    <tr>\n",
       "      <th>1333</th>\n",
       "      <td>50</td>\n",
       "      <td>0</td>\n",
       "      <td>30.970</td>\n",
       "      <td>3</td>\n",
       "      <td>0</td>\n",
       "      <td>3</td>\n",
       "      <td>10600.54830</td>\n",
       "    </tr>\n",
       "    <tr>\n",
       "      <th>1334</th>\n",
       "      <td>18</td>\n",
       "      <td>1</td>\n",
       "      <td>31.920</td>\n",
       "      <td>0</td>\n",
       "      <td>0</td>\n",
       "      <td>4</td>\n",
       "      <td>2205.98080</td>\n",
       "    </tr>\n",
       "    <tr>\n",
       "      <th>1335</th>\n",
       "      <td>18</td>\n",
       "      <td>1</td>\n",
       "      <td>36.850</td>\n",
       "      <td>0</td>\n",
       "      <td>0</td>\n",
       "      <td>2</td>\n",
       "      <td>1629.83350</td>\n",
       "    </tr>\n",
       "    <tr>\n",
       "      <th>1336</th>\n",
       "      <td>21</td>\n",
       "      <td>1</td>\n",
       "      <td>25.800</td>\n",
       "      <td>0</td>\n",
       "      <td>0</td>\n",
       "      <td>1</td>\n",
       "      <td>2007.94500</td>\n",
       "    </tr>\n",
       "    <tr>\n",
       "      <th>1337</th>\n",
       "      <td>61</td>\n",
       "      <td>1</td>\n",
       "      <td>29.070</td>\n",
       "      <td>0</td>\n",
       "      <td>1</td>\n",
       "      <td>3</td>\n",
       "      <td>29141.36030</td>\n",
       "    </tr>\n",
       "  </tbody>\n",
       "</table>\n",
       "<p>1337 rows × 7 columns</p>\n",
       "</div>"
      ],
      "text/plain": [
       "      age  sex     bmi  children  smoker  region      charges\n",
       "0      19    1  27.900         0       1       1  16884.92400\n",
       "1      18    0  33.770         1       0       2   1725.55230\n",
       "2      28    0  33.000         3       0       2   4449.46200\n",
       "3      33    0  22.705         0       0       3  21984.47061\n",
       "4      32    0  28.880         0       0       3   3866.85520\n",
       "...   ...  ...     ...       ...     ...     ...          ...\n",
       "1333   50    0  30.970         3       0       3  10600.54830\n",
       "1334   18    1  31.920         0       0       4   2205.98080\n",
       "1335   18    1  36.850         0       0       2   1629.83350\n",
       "1336   21    1  25.800         0       0       1   2007.94500\n",
       "1337   61    1  29.070         0       1       3  29141.36030\n",
       "\n",
       "[1337 rows x 7 columns]"
      ]
     },
     "execution_count": 13,
     "metadata": {},
     "output_type": "execute_result"
    }
   ],
   "source": [
    "## Changing the string into numbers.\n",
    "\n",
    "data['sex']=data['sex'].map({'male':0,'female':1}).astype(int)\n",
    "data['smoker']=data['smoker'].map({'yes':1,'no':0}).astype(int)\n",
    "data['region']=data['region'].map({'southwest':1,'southeast':2,'northwest':3,'northeast':4}).astype(int)\n",
    "data"
   ]
  },
  {
   "cell_type": "markdown",
   "id": "2002d669",
   "metadata": {},
   "source": [
    "## 4.  Check that sex and smoking are statistically independent or not.\n"
   ]
  },
  {
   "cell_type": "markdown",
   "id": "d2e016b2",
   "metadata": {},
   "source": [
    "#### yes they both are independent"
   ]
  },
  {
   "cell_type": "code",
   "execution_count": 14,
   "id": "0daa99e2",
   "metadata": {},
   "outputs": [
    {
     "name": "stdout",
     "output_type": "stream",
     "text": [
      "-0.07659585039335874\n"
     ]
    }
   ],
   "source": [
    "column_1=data[\"sex\"]\n",
    "column_2=data[\"smoker\"]\n",
    "correlation=column_1.corr(column_2)\n",
    "print(correlation)"
   ]
  },
  {
   "cell_type": "markdown",
   "id": "9cf0b2a5",
   "metadata": {},
   "source": [
    "## 5. Check that all regressor variables (independent variable) are independent of each other or not."
   ]
  },
  {
   "cell_type": "markdown",
   "id": "ad5c401a",
   "metadata": {},
   "source": [
    "## ANS: Independent variables are age,sex,bmi,smoker and children. Yes all regressor variables (independent variable) are independent of each other "
   ]
  },
  {
   "cell_type": "code",
   "execution_count": 15,
   "id": "3c754bf3",
   "metadata": {},
   "outputs": [
    {
     "name": "stdout",
     "output_type": "stream",
     "text": [
      "-0.025587117601993975\n"
     ]
    }
   ],
   "source": [
    "## EXample- age and smoker\n",
    "\n",
    "column_1 = data[\"age\"]\n",
    "column_2 = data[\"smoker\"]\n",
    "correlation = column_1.corr(column_2)\n",
    "print(correlation)"
   ]
  },
  {
   "cell_type": "code",
   "execution_count": 16,
   "id": "7a37430d",
   "metadata": {},
   "outputs": [
    {
     "name": "stdout",
     "output_type": "stream",
     "text": [
      "-0.0007356872612267685\n",
      "0.23379165293846801\n"
     ]
    }
   ],
   "source": [
    "x=data['age']\n",
    "y=data['smoker']\n",
    "\n",
    "xmean=data.age.mean()\n",
    "data['diffx'] = xmean - x\n",
    "data['diff_x^2'] = data.diffx**2\n",
    "SSxx = data['diff_x^2'].sum()\n",
    "\n",
    "ymean =y.mean()\n",
    "data['diffy'] = ymean - y\n",
    "SSxy = (data.diffx * data.diffy).sum()\n",
    "\n",
    "m = SSxy/SSxx\n",
    "print(m)\n",
    "\n",
    "b=ymean- m*xmean\n",
    "print(b)\n",
    "\n",
    "\n",
    "\n",
    "def predicted_y(value):\n",
    "    predict =m+value+b\n",
    "    return predict"
   ]
  },
  {
   "cell_type": "code",
   "execution_count": 17,
   "id": "f0e3f073",
   "metadata": {},
   "outputs": [
    {
     "data": {
      "text/plain": [
       "217.84741959611074"
      ]
     },
     "execution_count": 17,
     "metadata": {},
     "output_type": "execute_result"
    }
   ],
   "source": [
    "total_some_squares = ((y-ymean)**2).sum()\n",
    "total_some_squares"
   ]
  },
  {
   "cell_type": "code",
   "execution_count": 18,
   "id": "a382b404",
   "metadata": {},
   "outputs": [
    {
     "data": {
      "text/plain": [
       "0       19.233056\n",
       "1       18.233056\n",
       "2       28.233056\n",
       "3       33.233056\n",
       "4       32.233056\n",
       "          ...    \n",
       "1333    50.233056\n",
       "1334    18.233056\n",
       "1335    18.233056\n",
       "1336    21.233056\n",
       "1337    61.233056\n",
       "Name: age, Length: 1337, dtype: float64"
      ]
     },
     "execution_count": 18,
     "metadata": {},
     "output_type": "execute_result"
    }
   ],
   "source": [
    "y_hat=predicted_y(x)\n",
    "y_hat"
   ]
  },
  {
   "cell_type": "code",
   "execution_count": 19,
   "id": "f4553ae3",
   "metadata": {},
   "outputs": [
    {
     "data": {
      "text/plain": [
       "2323881.8142771935"
      ]
     },
     "execution_count": 19,
     "metadata": {},
     "output_type": "execute_result"
    }
   ],
   "source": [
    "some_residual_squares = ((y-y_hat)**2).sum()\n",
    "some_residual_squares"
   ]
  },
  {
   "cell_type": "code",
   "execution_count": 20,
   "id": "95a19bbe",
   "metadata": {},
   "outputs": [
    {
     "data": {
      "text/plain": [
       "0.9999062571004008"
      ]
     },
     "execution_count": 20,
     "metadata": {},
     "output_type": "execute_result"
    }
   ],
   "source": [
    "R_square=1-total_some_squares/some_residual_squares\n",
    "R_square"
   ]
  },
  {
   "cell_type": "code",
   "execution_count": 21,
   "id": "9bfa5b21",
   "metadata": {},
   "outputs": [
    {
     "data": {
      "text/html": [
       "<div>\n",
       "<style scoped>\n",
       "    .dataframe tbody tr th:only-of-type {\n",
       "        vertical-align: middle;\n",
       "    }\n",
       "\n",
       "    .dataframe tbody tr th {\n",
       "        vertical-align: top;\n",
       "    }\n",
       "\n",
       "    .dataframe thead th {\n",
       "        text-align: right;\n",
       "    }\n",
       "</style>\n",
       "<table border=\"1\" class=\"dataframe\">\n",
       "  <thead>\n",
       "    <tr style=\"text-align: right;\">\n",
       "      <th></th>\n",
       "      <th>age</th>\n",
       "      <th>sex</th>\n",
       "      <th>bmi</th>\n",
       "      <th>children</th>\n",
       "      <th>smoker</th>\n",
       "      <th>region</th>\n",
       "      <th>charges</th>\n",
       "      <th>diffx</th>\n",
       "      <th>diff_x^2</th>\n",
       "      <th>diffy</th>\n",
       "    </tr>\n",
       "  </thead>\n",
       "  <tbody>\n",
       "    <tr>\n",
       "      <th>age</th>\n",
       "      <td>1.000000</td>\n",
       "      <td>0.019814</td>\n",
       "      <td>0.109344</td>\n",
       "      <td>0.041536</td>\n",
       "      <td>-0.025587</td>\n",
       "      <td>-0.001626</td>\n",
       "      <td>0.298308</td>\n",
       "      <td>-1.000000</td>\n",
       "      <td>0.062943</td>\n",
       "      <td>0.025587</td>\n",
       "    </tr>\n",
       "    <tr>\n",
       "      <th>sex</th>\n",
       "      <td>0.019814</td>\n",
       "      <td>1.000000</td>\n",
       "      <td>-0.046397</td>\n",
       "      <td>-0.017848</td>\n",
       "      <td>-0.076596</td>\n",
       "      <td>0.004936</td>\n",
       "      <td>-0.058044</td>\n",
       "      <td>-0.019814</td>\n",
       "      <td>0.001190</td>\n",
       "      <td>0.076596</td>\n",
       "    </tr>\n",
       "    <tr>\n",
       "      <th>bmi</th>\n",
       "      <td>0.109344</td>\n",
       "      <td>-0.046397</td>\n",
       "      <td>1.000000</td>\n",
       "      <td>0.012755</td>\n",
       "      <td>0.003746</td>\n",
       "      <td>-0.157574</td>\n",
       "      <td>0.198401</td>\n",
       "      <td>-0.109344</td>\n",
       "      <td>0.038285</td>\n",
       "      <td>-0.003746</td>\n",
       "    </tr>\n",
       "    <tr>\n",
       "      <th>children</th>\n",
       "      <td>0.041536</td>\n",
       "      <td>-0.017848</td>\n",
       "      <td>0.012755</td>\n",
       "      <td>1.000000</td>\n",
       "      <td>0.007331</td>\n",
       "      <td>-0.016258</td>\n",
       "      <td>0.067389</td>\n",
       "      <td>-0.041536</td>\n",
       "      <td>-0.293838</td>\n",
       "      <td>-0.007331</td>\n",
       "    </tr>\n",
       "    <tr>\n",
       "      <th>smoker</th>\n",
       "      <td>-0.025587</td>\n",
       "      <td>-0.076596</td>\n",
       "      <td>0.003746</td>\n",
       "      <td>0.007331</td>\n",
       "      <td>1.000000</td>\n",
       "      <td>0.002358</td>\n",
       "      <td>0.787234</td>\n",
       "      <td>0.025587</td>\n",
       "      <td>-0.010215</td>\n",
       "      <td>-1.000000</td>\n",
       "    </tr>\n",
       "    <tr>\n",
       "      <th>region</th>\n",
       "      <td>-0.001626</td>\n",
       "      <td>0.004936</td>\n",
       "      <td>-0.157574</td>\n",
       "      <td>-0.016258</td>\n",
       "      <td>0.002358</td>\n",
       "      <td>1.000000</td>\n",
       "      <td>0.006547</td>\n",
       "      <td>0.001626</td>\n",
       "      <td>0.002980</td>\n",
       "      <td>-0.002358</td>\n",
       "    </tr>\n",
       "    <tr>\n",
       "      <th>charges</th>\n",
       "      <td>0.298308</td>\n",
       "      <td>-0.058044</td>\n",
       "      <td>0.198401</td>\n",
       "      <td>0.067389</td>\n",
       "      <td>0.787234</td>\n",
       "      <td>0.006547</td>\n",
       "      <td>1.000000</td>\n",
       "      <td>-0.298308</td>\n",
       "      <td>0.053732</td>\n",
       "      <td>-0.787234</td>\n",
       "    </tr>\n",
       "    <tr>\n",
       "      <th>diffx</th>\n",
       "      <td>-1.000000</td>\n",
       "      <td>-0.019814</td>\n",
       "      <td>-0.109344</td>\n",
       "      <td>-0.041536</td>\n",
       "      <td>0.025587</td>\n",
       "      <td>0.001626</td>\n",
       "      <td>-0.298308</td>\n",
       "      <td>1.000000</td>\n",
       "      <td>-0.062943</td>\n",
       "      <td>-0.025587</td>\n",
       "    </tr>\n",
       "    <tr>\n",
       "      <th>diff_x^2</th>\n",
       "      <td>0.062943</td>\n",
       "      <td>0.001190</td>\n",
       "      <td>0.038285</td>\n",
       "      <td>-0.293838</td>\n",
       "      <td>-0.010215</td>\n",
       "      <td>0.002980</td>\n",
       "      <td>0.053732</td>\n",
       "      <td>-0.062943</td>\n",
       "      <td>1.000000</td>\n",
       "      <td>0.010215</td>\n",
       "    </tr>\n",
       "    <tr>\n",
       "      <th>diffy</th>\n",
       "      <td>0.025587</td>\n",
       "      <td>0.076596</td>\n",
       "      <td>-0.003746</td>\n",
       "      <td>-0.007331</td>\n",
       "      <td>-1.000000</td>\n",
       "      <td>-0.002358</td>\n",
       "      <td>-0.787234</td>\n",
       "      <td>-0.025587</td>\n",
       "      <td>0.010215</td>\n",
       "      <td>1.000000</td>\n",
       "    </tr>\n",
       "  </tbody>\n",
       "</table>\n",
       "</div>"
      ],
      "text/plain": [
       "               age       sex       bmi  children    smoker    region  \\\n",
       "age       1.000000  0.019814  0.109344  0.041536 -0.025587 -0.001626   \n",
       "sex       0.019814  1.000000 -0.046397 -0.017848 -0.076596  0.004936   \n",
       "bmi       0.109344 -0.046397  1.000000  0.012755  0.003746 -0.157574   \n",
       "children  0.041536 -0.017848  0.012755  1.000000  0.007331 -0.016258   \n",
       "smoker   -0.025587 -0.076596  0.003746  0.007331  1.000000  0.002358   \n",
       "region   -0.001626  0.004936 -0.157574 -0.016258  0.002358  1.000000   \n",
       "charges   0.298308 -0.058044  0.198401  0.067389  0.787234  0.006547   \n",
       "diffx    -1.000000 -0.019814 -0.109344 -0.041536  0.025587  0.001626   \n",
       "diff_x^2  0.062943  0.001190  0.038285 -0.293838 -0.010215  0.002980   \n",
       "diffy     0.025587  0.076596 -0.003746 -0.007331 -1.000000 -0.002358   \n",
       "\n",
       "           charges     diffx  diff_x^2     diffy  \n",
       "age       0.298308 -1.000000  0.062943  0.025587  \n",
       "sex      -0.058044 -0.019814  0.001190  0.076596  \n",
       "bmi       0.198401 -0.109344  0.038285 -0.003746  \n",
       "children  0.067389 -0.041536 -0.293838 -0.007331  \n",
       "smoker    0.787234  0.025587 -0.010215 -1.000000  \n",
       "region    0.006547  0.001626  0.002980 -0.002358  \n",
       "charges   1.000000 -0.298308  0.053732 -0.787234  \n",
       "diffx    -0.298308  1.000000 -0.062943 -0.025587  \n",
       "diff_x^2  0.053732 -0.062943  1.000000  0.010215  \n",
       "diffy    -0.787234 -0.025587  0.010215  1.000000  "
      ]
     },
     "execution_count": 21,
     "metadata": {},
     "output_type": "execute_result"
    }
   ],
   "source": [
    "data.corr()"
   ]
  },
  {
   "cell_type": "markdown",
   "id": "302dec53",
   "metadata": {},
   "source": [
    " ## 6. Check the dependency between response and regressors."
   ]
  },
  {
   "cell_type": "markdown",
   "id": "de6ad460",
   "metadata": {},
   "source": [
    "#### ANS:  YES THERE SMALL DEPENDECY ON CHARGES WITH RESPECT TO THE (AGE,BMI) ,         BUT THERE IS HUGE DEPENDENCY ON SMOKER."
   ]
  },
  {
   "cell_type": "code",
   "execution_count": 22,
   "id": "88fbe9d4",
   "metadata": {},
   "outputs": [
    {
     "name": "stdout",
     "output_type": "stream",
     "text": [
      "0.2983082125097863\n"
     ]
    }
   ],
   "source": [
    "column_1 = data[\"age\"]\n",
    "column_2 = data[\"charges\"]\n",
    "correlation = column_1.corr(column_2)\n",
    "print(correlation)"
   ]
  },
  {
   "cell_type": "code",
   "execution_count": 23,
   "id": "7c941800",
   "metadata": {},
   "outputs": [
    {
     "name": "stdout",
     "output_type": "stream",
     "text": [
      "-0.058044495790312914\n"
     ]
    }
   ],
   "source": [
    "column_1 = data[\"sex\"]\n",
    "column_2 = data[\"charges\"]\n",
    "correlation = column_1.corr(column_2)\n",
    "print(correlation)"
   ]
  },
  {
   "cell_type": "code",
   "execution_count": 24,
   "id": "553f2741",
   "metadata": {},
   "outputs": [
    {
     "name": "stdout",
     "output_type": "stream",
     "text": [
      "0.19840083122624935\n"
     ]
    }
   ],
   "source": [
    "column_1 = data[\"bmi\"]\n",
    "column_2 = data[\"charges\"]\n",
    "correlation = column_1.corr(column_2)\n",
    "print(correlation)"
   ]
  },
  {
   "cell_type": "code",
   "execution_count": 25,
   "id": "59047fbb",
   "metadata": {},
   "outputs": [
    {
     "name": "stdout",
     "output_type": "stream",
     "text": [
      "0.7872343672800326\n"
     ]
    }
   ],
   "source": [
    "column_1 = data[\"smoker\"]\n",
    "column_2 = data[\"charges\"]\n",
    "correlation = column_1.corr(column_2)\n",
    "print(correlation)"
   ]
  },
  {
   "cell_type": "code",
   "execution_count": 26,
   "id": "d3cf7126",
   "metadata": {},
   "outputs": [
    {
     "data": {
      "text/html": [
       "<div>\n",
       "<style scoped>\n",
       "    .dataframe tbody tr th:only-of-type {\n",
       "        vertical-align: middle;\n",
       "    }\n",
       "\n",
       "    .dataframe tbody tr th {\n",
       "        vertical-align: top;\n",
       "    }\n",
       "\n",
       "    .dataframe thead th {\n",
       "        text-align: right;\n",
       "    }\n",
       "</style>\n",
       "<table border=\"1\" class=\"dataframe\">\n",
       "  <thead>\n",
       "    <tr style=\"text-align: right;\">\n",
       "      <th></th>\n",
       "      <th>age</th>\n",
       "      <th>sex</th>\n",
       "      <th>bmi</th>\n",
       "      <th>children</th>\n",
       "      <th>smoker</th>\n",
       "      <th>region</th>\n",
       "      <th>charges</th>\n",
       "      <th>diffx</th>\n",
       "      <th>diff_x^2</th>\n",
       "      <th>diffy</th>\n",
       "    </tr>\n",
       "  </thead>\n",
       "  <tbody>\n",
       "    <tr>\n",
       "      <th>age</th>\n",
       "      <td>1.000000</td>\n",
       "      <td>0.019814</td>\n",
       "      <td>0.109344</td>\n",
       "      <td>0.041536</td>\n",
       "      <td>-0.025587</td>\n",
       "      <td>-0.001626</td>\n",
       "      <td>0.298308</td>\n",
       "      <td>-1.000000</td>\n",
       "      <td>0.062943</td>\n",
       "      <td>0.025587</td>\n",
       "    </tr>\n",
       "    <tr>\n",
       "      <th>sex</th>\n",
       "      <td>0.019814</td>\n",
       "      <td>1.000000</td>\n",
       "      <td>-0.046397</td>\n",
       "      <td>-0.017848</td>\n",
       "      <td>-0.076596</td>\n",
       "      <td>0.004936</td>\n",
       "      <td>-0.058044</td>\n",
       "      <td>-0.019814</td>\n",
       "      <td>0.001190</td>\n",
       "      <td>0.076596</td>\n",
       "    </tr>\n",
       "    <tr>\n",
       "      <th>bmi</th>\n",
       "      <td>0.109344</td>\n",
       "      <td>-0.046397</td>\n",
       "      <td>1.000000</td>\n",
       "      <td>0.012755</td>\n",
       "      <td>0.003746</td>\n",
       "      <td>-0.157574</td>\n",
       "      <td>0.198401</td>\n",
       "      <td>-0.109344</td>\n",
       "      <td>0.038285</td>\n",
       "      <td>-0.003746</td>\n",
       "    </tr>\n",
       "    <tr>\n",
       "      <th>children</th>\n",
       "      <td>0.041536</td>\n",
       "      <td>-0.017848</td>\n",
       "      <td>0.012755</td>\n",
       "      <td>1.000000</td>\n",
       "      <td>0.007331</td>\n",
       "      <td>-0.016258</td>\n",
       "      <td>0.067389</td>\n",
       "      <td>-0.041536</td>\n",
       "      <td>-0.293838</td>\n",
       "      <td>-0.007331</td>\n",
       "    </tr>\n",
       "    <tr>\n",
       "      <th>smoker</th>\n",
       "      <td>-0.025587</td>\n",
       "      <td>-0.076596</td>\n",
       "      <td>0.003746</td>\n",
       "      <td>0.007331</td>\n",
       "      <td>1.000000</td>\n",
       "      <td>0.002358</td>\n",
       "      <td>0.787234</td>\n",
       "      <td>0.025587</td>\n",
       "      <td>-0.010215</td>\n",
       "      <td>-1.000000</td>\n",
       "    </tr>\n",
       "    <tr>\n",
       "      <th>region</th>\n",
       "      <td>-0.001626</td>\n",
       "      <td>0.004936</td>\n",
       "      <td>-0.157574</td>\n",
       "      <td>-0.016258</td>\n",
       "      <td>0.002358</td>\n",
       "      <td>1.000000</td>\n",
       "      <td>0.006547</td>\n",
       "      <td>0.001626</td>\n",
       "      <td>0.002980</td>\n",
       "      <td>-0.002358</td>\n",
       "    </tr>\n",
       "    <tr>\n",
       "      <th>charges</th>\n",
       "      <td>0.298308</td>\n",
       "      <td>-0.058044</td>\n",
       "      <td>0.198401</td>\n",
       "      <td>0.067389</td>\n",
       "      <td>0.787234</td>\n",
       "      <td>0.006547</td>\n",
       "      <td>1.000000</td>\n",
       "      <td>-0.298308</td>\n",
       "      <td>0.053732</td>\n",
       "      <td>-0.787234</td>\n",
       "    </tr>\n",
       "    <tr>\n",
       "      <th>diffx</th>\n",
       "      <td>-1.000000</td>\n",
       "      <td>-0.019814</td>\n",
       "      <td>-0.109344</td>\n",
       "      <td>-0.041536</td>\n",
       "      <td>0.025587</td>\n",
       "      <td>0.001626</td>\n",
       "      <td>-0.298308</td>\n",
       "      <td>1.000000</td>\n",
       "      <td>-0.062943</td>\n",
       "      <td>-0.025587</td>\n",
       "    </tr>\n",
       "    <tr>\n",
       "      <th>diff_x^2</th>\n",
       "      <td>0.062943</td>\n",
       "      <td>0.001190</td>\n",
       "      <td>0.038285</td>\n",
       "      <td>-0.293838</td>\n",
       "      <td>-0.010215</td>\n",
       "      <td>0.002980</td>\n",
       "      <td>0.053732</td>\n",
       "      <td>-0.062943</td>\n",
       "      <td>1.000000</td>\n",
       "      <td>0.010215</td>\n",
       "    </tr>\n",
       "    <tr>\n",
       "      <th>diffy</th>\n",
       "      <td>0.025587</td>\n",
       "      <td>0.076596</td>\n",
       "      <td>-0.003746</td>\n",
       "      <td>-0.007331</td>\n",
       "      <td>-1.000000</td>\n",
       "      <td>-0.002358</td>\n",
       "      <td>-0.787234</td>\n",
       "      <td>-0.025587</td>\n",
       "      <td>0.010215</td>\n",
       "      <td>1.000000</td>\n",
       "    </tr>\n",
       "  </tbody>\n",
       "</table>\n",
       "</div>"
      ],
      "text/plain": [
       "               age       sex       bmi  children    smoker    region  \\\n",
       "age       1.000000  0.019814  0.109344  0.041536 -0.025587 -0.001626   \n",
       "sex       0.019814  1.000000 -0.046397 -0.017848 -0.076596  0.004936   \n",
       "bmi       0.109344 -0.046397  1.000000  0.012755  0.003746 -0.157574   \n",
       "children  0.041536 -0.017848  0.012755  1.000000  0.007331 -0.016258   \n",
       "smoker   -0.025587 -0.076596  0.003746  0.007331  1.000000  0.002358   \n",
       "region   -0.001626  0.004936 -0.157574 -0.016258  0.002358  1.000000   \n",
       "charges   0.298308 -0.058044  0.198401  0.067389  0.787234  0.006547   \n",
       "diffx    -1.000000 -0.019814 -0.109344 -0.041536  0.025587  0.001626   \n",
       "diff_x^2  0.062943  0.001190  0.038285 -0.293838 -0.010215  0.002980   \n",
       "diffy     0.025587  0.076596 -0.003746 -0.007331 -1.000000 -0.002358   \n",
       "\n",
       "           charges     diffx  diff_x^2     diffy  \n",
       "age       0.298308 -1.000000  0.062943  0.025587  \n",
       "sex      -0.058044 -0.019814  0.001190  0.076596  \n",
       "bmi       0.198401 -0.109344  0.038285 -0.003746  \n",
       "children  0.067389 -0.041536 -0.293838 -0.007331  \n",
       "smoker    0.787234  0.025587 -0.010215 -1.000000  \n",
       "region    0.006547  0.001626  0.002980 -0.002358  \n",
       "charges   1.000000 -0.298308  0.053732 -0.787234  \n",
       "diffx    -0.298308  1.000000 -0.062943 -0.025587  \n",
       "diff_x^2  0.053732 -0.062943  1.000000  0.010215  \n",
       "diffy    -0.787234 -0.025587  0.010215  1.000000  "
      ]
     },
     "execution_count": 26,
     "metadata": {},
     "output_type": "execute_result"
    }
   ],
   "source": [
    "data.corr()"
   ]
  },
  {
   "cell_type": "markdown",
   "id": "a8aaa7bb",
   "metadata": {},
   "source": [
    "## 7. Predict the regression Line to predict the charges for insurance using independent variables."
   ]
  },
  {
   "cell_type": "code",
   "execution_count": 27,
   "id": "51724f85",
   "metadata": {},
   "outputs": [
    {
     "name": "stdout",
     "output_type": "stream",
     "text": [
      "x :  [[ 1.   19.    1.   27.9   1.  ]\n",
      " [ 1.   18.    0.   33.77  0.  ]\n",
      " [ 1.   28.    0.   33.    0.  ]\n",
      " ...\n",
      " [ 1.   18.    1.   36.85  0.  ]\n",
      " [ 1.   21.    1.   25.8   0.  ]\n",
      " [ 1.   61.    1.   29.07  1.  ]]\n",
      "\n",
      "x Transpose :  [[ 1.    1.    1.   ...  1.    1.    1.  ]\n",
      " [19.   18.   28.   ... 18.   21.   61.  ]\n",
      " [ 1.    0.    0.   ...  1.    1.    1.  ]\n",
      " [27.9  33.77 33.   ... 36.85 25.8  29.07]\n",
      " [ 1.    0.    0.   ...  0.    0.    1.  ]]\n",
      "beta values: [-11736.2886855     259.34292641    106.89267306    323.06893696\n",
      "  23832.22216519]\n",
      "\n",
      "-11736.288685495267\n",
      "259.342926414516\n",
      "106.89267305788599\n",
      "323.06893696491716\n",
      "23832.222165186424\n"
     ]
    }
   ],
   "source": [
    "x1=data[\"age\"]\n",
    "x2=data[\"sex\"]\n",
    "x3=data[\"bmi\"]\n",
    "x4=data[\"smoker\"]\n",
    "y=data[\"charges\"]\n",
    "\n",
    "x1=np.array(x1)\n",
    "x2=np.array(x2)\n",
    "x3=np.array(x3)\n",
    "x4=np.array(x4)\n",
    "y=np.array(y)\n",
    "\n",
    "n=len(x1)\n",
    "\n",
    "x_ones= np.ones((n,1))\n",
    "\n",
    "x1_new=np.reshape(x1,(n,1))\n",
    "x2_new=np.reshape(x2,(n,1))\n",
    "x3_new=np.reshape(x3,(n,1))\n",
    "x4_new=np.reshape(x4,(n,1))\n",
    "\n",
    "x_new=np.append(x_ones,x1_new,axis=1)\n",
    "x_new=np.append(x_new,x2_new,axis=1)\n",
    "x_new=np.append(x_new,x3_new,axis=1)\n",
    "x_new=np.append(x_new,x4_new,axis=1)\n",
    "\n",
    "print(\"x : \", x_new)\n",
    "print()\n",
    "\n",
    "x_new_transpose = np.transpose(x_new)\n",
    "\n",
    "print(\"x Transpose : \", x_new_transpose)\n",
    "\n",
    "x_new_transpose_dot_x_new = x_new_transpose.dot(x_new)\n",
    "temp1 =np.linalg.inv(x_new_transpose_dot_x_new)\n",
    "temp2= x_new_transpose.dot(y)\n",
    "\n",
    "Bheta_values = temp1.dot(temp2)\n",
    "print(\"beta values:\",Bheta_values)\n",
    "print()\n",
    "\n",
    "beta_0=Bheta_values[0]\n",
    "beta_1=Bheta_values[1]\n",
    "beta_2=Bheta_values[2]\n",
    "beta_3=Bheta_values[3]\n",
    "beta_4=Bheta_values[4]\n",
    "\n",
    "print(beta_0)\n",
    "print(beta_1)\n",
    "print(beta_2)\n",
    "print(beta_3)\n",
    "print(beta_4)\n",
    "\n",
    "\n",
    "def predicted_values(beta_0,beta_1,beta_2,beta_3,beta_4,age,sex,bmi,smoker):\n",
    "    predicted_value = beta_0 +(age * beta_1)+ (sex * beta_2) + (bmi * beta_3) + (smoker * beta_4)\n",
    "    return predicted_value\n"
   ]
  },
  {
   "cell_type": "code",
   "execution_count": 28,
   "id": "8abab487",
   "metadata": {},
   "outputs": [
    {
     "name": "stdout",
     "output_type": "stream",
     "text": [
      "28769.701253787687\n"
     ]
    }
   ],
   "source": [
    "age=29\n",
    "sex=1\n",
    "bmi=28\n",
    "smoker=1\n",
    "\n",
    "print(predicted_values(beta_0,beta_1,beta_2,beta_3,beta_4,age,sex,bmi,smoker))"
   ]
  },
  {
   "cell_type": "markdown",
   "id": "cbb0bfce",
   "metadata": {},
   "source": [
    "## 8. Predict the accuracy of the regression Model."
   ]
  },
  {
   "cell_type": "code",
   "execution_count": 29,
   "id": "938490cb",
   "metadata": {},
   "outputs": [
    {
     "name": "stdout",
     "output_type": "stream",
     "text": [
      "x:  [[19.    1.   27.9   0.    1.  ]\n",
      " [18.    0.   33.77  1.    0.  ]\n",
      " [28.    0.   33.    3.    0.  ]\n",
      " ...\n",
      " [18.    1.   36.85  0.    0.  ]\n",
      " [21.    1.   25.8   0.    0.  ]\n",
      " [61.    1.   29.07  0.    1.  ]]\n",
      "y:  [16884.924   1725.5523  4449.462  ...  1629.8335  2007.945  29141.3603]\n"
     ]
    }
   ],
   "source": [
    "x=data.iloc[:,0:5].values\n",
    "y=data.iloc[:,6].values\n",
    "print(\"x: \",x)\n",
    "print(\"y: \",y)"
   ]
  },
  {
   "cell_type": "code",
   "execution_count": 30,
   "id": "483bbfe1",
   "metadata": {},
   "outputs": [
    {
     "name": "stdout",
     "output_type": "stream",
     "text": [
      "Linear Regression Accuracy is 74.37441203005137\n"
     ]
    }
   ],
   "source": [
    "from sklearn.model_selection import train_test_split\n",
    "x_train,x_test,y_train,y_test=train_test_split(x,y,test_size=0.25,random_state=0)\n",
    "\n",
    "from sklearn.linear_model import LinearRegression\n",
    "lin_regressor= LinearRegression()\n",
    "lin_regressor.fit(x_train,y_train)\n",
    "y_predict=lin_regressor.predict(x_test)\n",
    "score=lin_regressor.score(x_test,y_test)\n",
    "print(\"Linear Regression Accuracy is\",score*100)"
   ]
  },
  {
   "cell_type": "markdown",
   "id": "87d061a8",
   "metadata": {},
   "source": [
    "## 9. Predict insurance charge for Age = 29, Sex = F, bmi = 28, children = 1, Smoke = Yes, region = southeast.\n"
   ]
  },
  {
   "cell_type": "code",
   "execution_count": 31,
   "id": "fe385a65",
   "metadata": {},
   "outputs": [
    {
     "name": "stdout",
     "output_type": "stream",
     "text": [
      "x :  [[ 1.   19.    1.   27.9   1.    1.  ]\n",
      " [ 1.   18.    0.   33.77  0.    2.  ]\n",
      " [ 1.   28.    0.   33.    0.    2.  ]\n",
      " ...\n",
      " [ 1.   18.    1.   36.85  0.    2.  ]\n",
      " [ 1.   21.    1.   25.8   0.    1.  ]\n",
      " [ 1.   61.    1.   29.07  1.    3.  ]]\n",
      "\n",
      "x Transpose :  [[ 1.    1.    1.   ...  1.    1.    1.  ]\n",
      " [19.   18.   28.   ... 18.   21.   61.  ]\n",
      " [ 1.    0.    0.   ...  1.    1.    1.  ]\n",
      " [27.9  33.77 33.   ... 36.85 25.8  29.07]\n",
      " [ 1.    0.    0.   ...  0.    0.    1.  ]\n",
      " [ 1.    2.    2.   ...  2.    1.    3.  ]]\n",
      "beta values: [-12885.51500278    258.90892289    108.83060914    333.06366081\n",
      "  23829.22083425    345.99823508]\n",
      "\n",
      "-12885.515002776927\n",
      "258.9089228865528\n",
      "108.83060914489761\n",
      "333.06366081469605\n",
      "23829.220834248717\n",
      "345.99823508417467\n"
     ]
    }
   ],
   "source": [
    "## REGION -   southwest :1, southeast :2, northwest :3, northeast :4 \n",
    "## SEX -     male :0, female :1\n",
    "## SMOKER  -  yes :1, no :0\n",
    "\n",
    "x1=data[\"age\"]\n",
    "x2=data[\"sex\"]\n",
    "x3=data[\"bmi\"]\n",
    "x4=data[\"smoker\"]\n",
    "x5=data[\"region\"]\n",
    "y=data[\"charges\"]\n",
    "\n",
    "x1=np.array(x1)\n",
    "x2=np.array(x2)\n",
    "x3=np.array(x3)\n",
    "x4=np.array(x4)\n",
    "x5=np.array(x5)\n",
    "\n",
    "y=np.array(y)\n",
    "\n",
    "n=len(x1)\n",
    "\n",
    "x_ones= np.ones((n,1))\n",
    "\n",
    "x1_new=np.reshape(x1,(n,1))\n",
    "x2_new=np.reshape(x2,(n,1))\n",
    "x3_new=np.reshape(x3,(n,1))\n",
    "x4_new=np.reshape(x4,(n,1))\n",
    "x5_new=np.reshape(x5,(n,1))\n",
    "\n",
    "\n",
    "x_new=np.append(x_ones,x1_new,axis=1)\n",
    "x_new=np.append(x_new,x2_new,axis=1)\n",
    "x_new=np.append(x_new,x3_new,axis=1)\n",
    "x_new=np.append(x_new,x4_new,axis=1)\n",
    "x_new=np.append(x_new,x5_new,axis=1)\n",
    "\n",
    "\n",
    "print(\"x : \", x_new)\n",
    "print()\n",
    "\n",
    "x_new_transpose = np.transpose(x_new)\n",
    "\n",
    "print(\"x Transpose : \", x_new_transpose)\n",
    "\n",
    "x_new_transpose_dot_x_new = x_new_transpose.dot(x_new)\n",
    "temp1 =np.linalg.inv(x_new_transpose_dot_x_new)\n",
    "temp2= x_new_transpose.dot(y)\n",
    "\n",
    "Bheta_values = temp1.dot(temp2)\n",
    "print(\"beta values:\",Bheta_values)\n",
    "print()\n",
    "\n",
    "beta_0=Bheta_values[0]\n",
    "beta_1=Bheta_values[1]\n",
    "beta_2=Bheta_values[2]\n",
    "beta_3=Bheta_values[3]\n",
    "beta_4=Bheta_values[4]\n",
    "beta_5=Bheta_values[5]\n",
    "\n",
    "\n",
    "print(beta_0)\n",
    "print(beta_1)\n",
    "print(beta_2)\n",
    "print(beta_3)\n",
    "print(beta_4)\n",
    "print(beta_5)\n",
    "\n",
    "\n",
    "\n",
    "def predicted_values(beta_0,beta_1,beta_2,beta_3,beta_4,beta_5,age,sex,bmi,smoker,region):\n",
    "    predicted_value = beta_0 +(age * beta_1)+ (sex * beta_2) + (bmi * beta_3) + (smoker * beta_4) + (region * beta_5)\n",
    "    return predicted_value\n"
   ]
  },
  {
   "cell_type": "code",
   "execution_count": 32,
   "id": "dbd35731",
   "metadata": {},
   "outputs": [
    {
     "name": "stdout",
     "output_type": "stream",
     "text": [
      "28578.67417730656\n"
     ]
    }
   ],
   "source": [
    "age=29\n",
    "sex=1\n",
    "bmi=28\n",
    "smoker=1\n",
    "region=2\n",
    "\n",
    "print(predicted_values(beta_0,beta_1,beta_2,beta_3,beta_4,beta_5,age,sex,bmi,smoker,region))"
   ]
  },
  {
   "cell_type": "markdown",
   "id": "e7df7390",
   "metadata": {},
   "source": [
    "## 10. Give the percentage of error in regression model."
   ]
  },
  {
   "cell_type": "code",
   "execution_count": 33,
   "id": "b45ab4fb",
   "metadata": {},
   "outputs": [
    {
     "name": "stdout",
     "output_type": "stream",
     "text": [
      "The Mean Square Error is:  235407446944.19275\n"
     ]
    }
   ],
   "source": [
    "y = data['charges'].sum()\n",
    "y_bar = data.charges.mean()\n",
    "summation = 0  \n",
    "n =data.charges.size \n",
    "\n",
    "difference = y - y_bar\n",
    "squared_difference = difference**2  \n",
    "summation = summation + squared_difference \n",
    "MSE = summation/n  \n",
    "    \n",
    "print(\"The Mean Square Error is: \" , MSE)"
   ]
  },
  {
   "cell_type": "markdown",
   "id": "3f1d72aa",
   "metadata": {},
   "source": [
    "## 11. Give the 95% confidence interval for average charge insurance."
   ]
  },
  {
   "cell_type": "code",
   "execution_count": 34,
   "id": "48f5e766",
   "metadata": {},
   "outputs": [],
   "source": [
    "import numpy as np\n",
    "import pandas as pd\n",
    "import matplotlib.pyplot as plt\n",
    "from scipy import stats\n",
    "import statsmodels.stats.weightstats as sms\n",
    "from scipy.stats import t\n",
    "import math"
   ]
  },
  {
   "cell_type": "code",
   "execution_count": 35,
   "id": "2dc63296",
   "metadata": {},
   "outputs": [
    {
     "data": {
      "text/html": [
       "<div>\n",
       "<style scoped>\n",
       "    .dataframe tbody tr th:only-of-type {\n",
       "        vertical-align: middle;\n",
       "    }\n",
       "\n",
       "    .dataframe tbody tr th {\n",
       "        vertical-align: top;\n",
       "    }\n",
       "\n",
       "    .dataframe thead th {\n",
       "        text-align: right;\n",
       "    }\n",
       "</style>\n",
       "<table border=\"1\" class=\"dataframe\">\n",
       "  <thead>\n",
       "    <tr style=\"text-align: right;\">\n",
       "      <th></th>\n",
       "      <th>age</th>\n",
       "      <th>sex</th>\n",
       "      <th>bmi</th>\n",
       "      <th>children</th>\n",
       "      <th>smoker</th>\n",
       "      <th>region</th>\n",
       "      <th>charges</th>\n",
       "      <th>diffx</th>\n",
       "      <th>diff_x^2</th>\n",
       "      <th>diffy</th>\n",
       "    </tr>\n",
       "  </thead>\n",
       "  <tbody>\n",
       "    <tr>\n",
       "      <th>0</th>\n",
       "      <td>19</td>\n",
       "      <td>1</td>\n",
       "      <td>27.900</td>\n",
       "      <td>0</td>\n",
       "      <td>1</td>\n",
       "      <td>1</td>\n",
       "      <td>16884.92400</td>\n",
       "      <td>20.222139</td>\n",
       "      <td>408.934910</td>\n",
       "      <td>-0.795064</td>\n",
       "    </tr>\n",
       "    <tr>\n",
       "      <th>1</th>\n",
       "      <td>18</td>\n",
       "      <td>0</td>\n",
       "      <td>33.770</td>\n",
       "      <td>1</td>\n",
       "      <td>0</td>\n",
       "      <td>2</td>\n",
       "      <td>1725.55230</td>\n",
       "      <td>21.222139</td>\n",
       "      <td>450.379189</td>\n",
       "      <td>0.204936</td>\n",
       "    </tr>\n",
       "    <tr>\n",
       "      <th>2</th>\n",
       "      <td>28</td>\n",
       "      <td>0</td>\n",
       "      <td>33.000</td>\n",
       "      <td>3</td>\n",
       "      <td>0</td>\n",
       "      <td>2</td>\n",
       "      <td>4449.46200</td>\n",
       "      <td>11.222139</td>\n",
       "      <td>125.936406</td>\n",
       "      <td>0.204936</td>\n",
       "    </tr>\n",
       "    <tr>\n",
       "      <th>3</th>\n",
       "      <td>33</td>\n",
       "      <td>0</td>\n",
       "      <td>22.705</td>\n",
       "      <td>0</td>\n",
       "      <td>0</td>\n",
       "      <td>3</td>\n",
       "      <td>21984.47061</td>\n",
       "      <td>6.222139</td>\n",
       "      <td>38.715015</td>\n",
       "      <td>0.204936</td>\n",
       "    </tr>\n",
       "    <tr>\n",
       "      <th>4</th>\n",
       "      <td>32</td>\n",
       "      <td>0</td>\n",
       "      <td>28.880</td>\n",
       "      <td>0</td>\n",
       "      <td>0</td>\n",
       "      <td>3</td>\n",
       "      <td>3866.85520</td>\n",
       "      <td>7.222139</td>\n",
       "      <td>52.159293</td>\n",
       "      <td>0.204936</td>\n",
       "    </tr>\n",
       "    <tr>\n",
       "      <th>...</th>\n",
       "      <td>...</td>\n",
       "      <td>...</td>\n",
       "      <td>...</td>\n",
       "      <td>...</td>\n",
       "      <td>...</td>\n",
       "      <td>...</td>\n",
       "      <td>...</td>\n",
       "      <td>...</td>\n",
       "      <td>...</td>\n",
       "      <td>...</td>\n",
       "    </tr>\n",
       "    <tr>\n",
       "      <th>1333</th>\n",
       "      <td>50</td>\n",
       "      <td>0</td>\n",
       "      <td>30.970</td>\n",
       "      <td>3</td>\n",
       "      <td>0</td>\n",
       "      <td>3</td>\n",
       "      <td>10600.54830</td>\n",
       "      <td>-10.777861</td>\n",
       "      <td>116.162285</td>\n",
       "      <td>0.204936</td>\n",
       "    </tr>\n",
       "    <tr>\n",
       "      <th>1334</th>\n",
       "      <td>18</td>\n",
       "      <td>1</td>\n",
       "      <td>31.920</td>\n",
       "      <td>0</td>\n",
       "      <td>0</td>\n",
       "      <td>4</td>\n",
       "      <td>2205.98080</td>\n",
       "      <td>21.222139</td>\n",
       "      <td>450.379189</td>\n",
       "      <td>0.204936</td>\n",
       "    </tr>\n",
       "    <tr>\n",
       "      <th>1335</th>\n",
       "      <td>18</td>\n",
       "      <td>1</td>\n",
       "      <td>36.850</td>\n",
       "      <td>0</td>\n",
       "      <td>0</td>\n",
       "      <td>2</td>\n",
       "      <td>1629.83350</td>\n",
       "      <td>21.222139</td>\n",
       "      <td>450.379189</td>\n",
       "      <td>0.204936</td>\n",
       "    </tr>\n",
       "    <tr>\n",
       "      <th>1336</th>\n",
       "      <td>21</td>\n",
       "      <td>1</td>\n",
       "      <td>25.800</td>\n",
       "      <td>0</td>\n",
       "      <td>0</td>\n",
       "      <td>1</td>\n",
       "      <td>2007.94500</td>\n",
       "      <td>18.222139</td>\n",
       "      <td>332.046354</td>\n",
       "      <td>0.204936</td>\n",
       "    </tr>\n",
       "    <tr>\n",
       "      <th>1337</th>\n",
       "      <td>61</td>\n",
       "      <td>1</td>\n",
       "      <td>29.070</td>\n",
       "      <td>0</td>\n",
       "      <td>1</td>\n",
       "      <td>3</td>\n",
       "      <td>29141.36030</td>\n",
       "      <td>-21.777861</td>\n",
       "      <td>474.275225</td>\n",
       "      <td>-0.795064</td>\n",
       "    </tr>\n",
       "  </tbody>\n",
       "</table>\n",
       "<p>1337 rows × 10 columns</p>\n",
       "</div>"
      ],
      "text/plain": [
       "      age  sex     bmi  children  smoker  region      charges      diffx  \\\n",
       "0      19    1  27.900         0       1       1  16884.92400  20.222139   \n",
       "1      18    0  33.770         1       0       2   1725.55230  21.222139   \n",
       "2      28    0  33.000         3       0       2   4449.46200  11.222139   \n",
       "3      33    0  22.705         0       0       3  21984.47061   6.222139   \n",
       "4      32    0  28.880         0       0       3   3866.85520   7.222139   \n",
       "...   ...  ...     ...       ...     ...     ...          ...        ...   \n",
       "1333   50    0  30.970         3       0       3  10600.54830 -10.777861   \n",
       "1334   18    1  31.920         0       0       4   2205.98080  21.222139   \n",
       "1335   18    1  36.850         0       0       2   1629.83350  21.222139   \n",
       "1336   21    1  25.800         0       0       1   2007.94500  18.222139   \n",
       "1337   61    1  29.070         0       1       3  29141.36030 -21.777861   \n",
       "\n",
       "        diff_x^2     diffy  \n",
       "0     408.934910 -0.795064  \n",
       "1     450.379189  0.204936  \n",
       "2     125.936406  0.204936  \n",
       "3      38.715015  0.204936  \n",
       "4      52.159293  0.204936  \n",
       "...          ...       ...  \n",
       "1333  116.162285  0.204936  \n",
       "1334  450.379189  0.204936  \n",
       "1335  450.379189  0.204936  \n",
       "1336  332.046354  0.204936  \n",
       "1337  474.275225 -0.795064  \n",
       "\n",
       "[1337 rows x 10 columns]"
      ]
     },
     "execution_count": 35,
     "metadata": {},
     "output_type": "execute_result"
    }
   ],
   "source": [
    "data"
   ]
  },
  {
   "cell_type": "code",
   "execution_count": 36,
   "id": "e4d76a9c",
   "metadata": {},
   "outputs": [
    {
     "data": {
      "text/plain": [
       "13279.121486655948"
      ]
     },
     "execution_count": 36,
     "metadata": {},
     "output_type": "execute_result"
    }
   ],
   "source": [
    "n=1337\n",
    "x_bar =data.charges.mean()\n",
    "x_bar"
   ]
  },
  {
   "cell_type": "code",
   "execution_count": 37,
   "id": "800e87a0",
   "metadata": {},
   "outputs": [
    {
     "data": {
      "text/plain": [
       "9386.1613"
      ]
     },
     "execution_count": 37,
     "metadata": {},
     "output_type": "execute_result"
    }
   ],
   "source": [
    "mu= data.charges.median()\n",
    "mu"
   ]
  },
  {
   "cell_type": "code",
   "execution_count": 38,
   "id": "a89493c2",
   "metadata": {},
   "outputs": [
    {
     "data": {
      "text/plain": [
       "12110.359656344179"
      ]
     },
     "execution_count": 38,
     "metadata": {},
     "output_type": "execute_result"
    }
   ],
   "source": [
    "Sd = data.charges.std()\n",
    "Sd"
   ]
  },
  {
   "cell_type": "code",
   "execution_count": 39,
   "id": "9917ecc2",
   "metadata": {},
   "outputs": [
    {
     "name": "stdout",
     "output_type": "stream",
     "text": [
      "t-statistics t = 11.7541\n",
      "Confidence interval with 99% confidence level: (-∞)(13824.2763)\n"
     ]
    }
   ],
   "source": [
    "n = 1337\n",
    "mu_0 = mu\n",
    "alpha = 0.05\n",
    "t_stat = math.sqrt(n)*(x_bar - mu_0)/Sd\n",
    "crit = t.ppf(1-alpha, n-1)\n",
    "wing_span = crit*Sd/(math.sqrt(n))\n",
    "print((\"t-statistics t = {:.4f}\").format(t_stat))\n",
    "print((\"Confidence interval with 99% confidence level: (-∞)({:.4f})\").format(x_bar+wing_span))"
   ]
  },
  {
   "cell_type": "code",
   "execution_count": null,
   "id": "66173806",
   "metadata": {},
   "outputs": [],
   "source": []
  },
  {
   "cell_type": "code",
   "execution_count": null,
   "id": "e26a2ed7",
   "metadata": {},
   "outputs": [],
   "source": []
  }
 ],
 "metadata": {
  "kernelspec": {
   "display_name": "Python 3 (ipykernel)",
   "language": "python",
   "name": "python3"
  },
  "language_info": {
   "codemirror_mode": {
    "name": "ipython",
    "version": 3
   },
   "file_extension": ".py",
   "mimetype": "text/x-python",
   "name": "python",
   "nbconvert_exporter": "python",
   "pygments_lexer": "ipython3",
   "version": "3.9.7"
  }
 },
 "nbformat": 4,
 "nbformat_minor": 5
}
